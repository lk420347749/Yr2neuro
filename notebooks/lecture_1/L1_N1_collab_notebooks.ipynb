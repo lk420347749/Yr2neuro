{
  "cells": [
    {
      "cell_type": "markdown",
      "metadata": {
        "id": "aDJTm2qKJbAU"
      },
      "source": [
        "# 🧬 Welcome to Google Colab Notebooks!\n",
        "\n",
        "## First Things First - What Are You Looking At?\n",
        "\n",
        "You're in a **Google Colab notebook** - think of it as:\n",
        "- 📓 A digital lab notebook that can run experiments (code)\n",
        "- 📝 A mix of notes and calculations that actually work\n",
        "- 🔄 Like a Word document that can do math and science!\n",
        "\n",
        "**Why are we using this?**\n",
        "- No software to install (works in your browser!)\n",
        "- Works on any computer with internet\n",
        "- Free to use\n",
        "- Perfect for learning Python for biology\n",
        "- Your work saves automatically to Google Drive"
      ]
    },
    {
      "cell_type": "markdown",
      "metadata": {
        "id": "bzxvWKK8JbAW"
      },
      "source": [
        "## 🎯 Getting Oriented - The Colab Interface\n",
        "\n",
        "Look around your screen:\n",
        "- **Top**: Menu bar (File, Edit, etc.) - just like other programs\n",
        "- **Below that**: Toolbar with buttons\n",
        "- **Main area**: Your notebook with \"cells\" (we'll explain these!)\n",
        "- **Left side**: Table of contents and files (you can hide this)\n",
        "\n",
        "### Important Buttons to Know:\n",
        "- ▶️ **Play button**: Runs code (you'll use this a lot!)\n",
        "- **+ Code**: Adds a new code cell\n",
        "- **+ Text**: Adds a new text cell\n",
        "- 💾 **Save**: Saves to your Google Drive (or Ctrl+S / Cmd+S)"
      ]
    },
    {
      "cell_type": "markdown",
      "metadata": {
        "id": "Uu4c4YveJbAW"
      },
      "source": [
        "## 📋 Understanding Cells\n",
        "\n",
        "A notebook is made up of **cells** - think of them as individual sections in your lab notebook.\n",
        "\n",
        "There are two main types:\n",
        "\n",
        "### 1. Text Cells (like this one!)\n",
        "- For writing explanations, notes, and documentation\n",
        "- Can include formatting, lists, and even equations\n",
        "- Uses something called \"Markdown\" (we'll learn this!)\n",
        "\n",
        "### 2. Code Cells (see below)\n",
        "- For writing and running Python code\n",
        "- Has a grey background\n",
        "- Shows output directly below\n",
        "- Has `[ ]` on the left side"
      ]
    },
    {
      "cell_type": "code",
      "execution_count": 1,
      "metadata": {
        "id": "eEHGhbqeJbAW",
        "outputId": "d8909038-5476-4df3-9042-8207eace35ec",
        "colab": {
          "base_uri": "https://localhost:8080/"
        }
      },
      "outputs": [
        {
          "output_type": "stream",
          "name": "stdout",
          "text": [
            "Hello! I'm a code cell.\n",
            "Click the play button ▶️ or press Shift+Enter to run me!\n"
          ]
        }
      ],
      "source": [
        "# CELL TYPE 1: CODE CELLS\n",
        "# This is a code cell - it has a grey background\n",
        "# Notice the [ ] on the left? That shows if it's been run\n",
        "\n",
        "print(\"Hello! I'm a code cell.\")\n",
        "print(\"Click the play button ▶️ or press Shift+Enter to run me!\")\n",
        "\n",
        "# After running, you'll see:\n",
        "# - Output appears below\n",
        "# - The [ ] changes to [1] showing it was the first cell run"
      ]
    },
    {
      "cell_type": "markdown",
      "metadata": {
        "id": "8apfEhcKJbAX"
      },
      "source": [
        "## CELL TYPE 2: TEXT CELLS (Markdown)\n",
        "\n",
        "This is a text cell! It's for explanations and notes.\n",
        "\n",
        "**To edit a text cell:** Double-click on it  \n",
        "**To finish editing:** Press Shift+Enter or click elsewhere\n",
        "\n",
        "Text cells can include:\n",
        "- Formatted text (like **bold** and *italic*)\n",
        "- Lists (like this one!)\n",
        "- Headers and sections\n",
        "- Even equations: $c = \\\\sqrt{a^2 + b^2}$\n",
        "\n",
        "Try double-clicking this cell to see the \"source code\" behind the formatting!"
      ]
    },
    {
      "cell_type": "markdown",
      "metadata": {
        "id": "VvMIYR-SJbAX"
      },
      "source": [
        "## 🚀 Your First Code - Step by Step\n",
        "\n",
        "Let's run some code! Follow these steps:\n",
        "\n",
        "1. **Click** anywhere in the grey code cell below\n",
        "2. **Press** the ▶️ play button (or press Shift+Enter)\n",
        "3. **Watch** the output appear below the cell"
      ]
    },
    {
      "cell_type": "code",
      "execution_count": 2,
      "metadata": {
        "id": "NmQyQf6sJbAY",
        "outputId": "d27a8594-6a76-404f-e98f-5bb5db6b97a6",
        "colab": {
          "base_uri": "https://localhost:8080/"
        }
      },
      "outputs": [
        {
          "output_type": "stream",
          "name": "stdout",
          "text": [
            "Welcome, Biology Student!\n",
            "You just ran your first Python code! 🎉\n"
          ]
        }
      ],
      "source": [
        "# Let's start with something simple\n",
        "# Don't worry about understanding everything yet!\n",
        "\n",
        "# Step 1: Click anywhere in this cell\n",
        "# Step 2: Press the ▶️ play button (or Shift+Enter)\n",
        "\n",
        "name = \"Biology Student\"\n",
        "print(f\"Welcome, {name}!\")\n",
        "print(\"You just ran your first Python code! 🎉\")\n",
        "\n",
        "# What happened?\n",
        "# - Python stored \"Biology Student\" in a variable called 'name'\n",
        "# - Then it printed a welcome message\n",
        "# - The f before the quotes lets us insert variables into text"
      ]
    },
    {
      "cell_type": "markdown",
      "metadata": {
        "id": "DYhMoOxIJbAY"
      },
      "source": [
        "## 🎯 Try It Yourself!\n",
        "\n",
        "Now modify the code below:\n",
        "1. Change \"Your Name\" to your actual name\n",
        "2. Run the cell\n",
        "3. See your personalized output!"
      ]
    },
    {
      "cell_type": "code",
      "execution_count": 8,
      "metadata": {
        "id": "2_-GUcuvJbAY",
        "outputId": "da4002e9-90d0-45a9-e6a4-a2e4e52d49d5",
        "colab": {
          "base_uri": "https://localhost:8080/"
        }
      },
      "outputs": [
        {
          "output_type": "stream",
          "name": "stdout",
          "text": [
            "Hello, my name is Lukshana\n",
            "I'm studying Biology\n",
            "I'm ready to learn Python!\n"
          ]
        }
      ],
      "source": [
        "# TODO: Change \"Your Name\" to your actual name\n",
        "my_name = \"Lukshana\"\n",
        "my_course = \"Biology\"  # You can change this too!\n",
        "\n",
        "print(f\"Hello, my name is {my_name}\")\n",
        "print(f\"I'm studying {my_course}\")\n",
        "print(\"I'm ready to learn Python!\")"
      ]
    },
    {
      "cell_type": "markdown",
      "metadata": {
        "id": "7FfIyPt2JbAY"
      },
      "source": [
        "## ⚠️ Common Issues and How to Fix Them\n",
        "\n",
        "### \"My code won't run!\"\n",
        "- Make sure you clicked **inside** the cell first (it should be highlighted)\n",
        "- Look for the play button ▶️ on the left\n",
        "- Or press **Shift+Enter** (hold Shift, then press Enter)\n",
        "\n",
        "### \"I see [*] and nothing happens\"\n",
        "- The `*` means it's still running\n",
        "- Wait a moment for simple code\n",
        "- If it's stuck: Go to **Runtime → Interrupt execution**\n",
        "\n",
        "### \"NameError: name 'x' is not defined\"\n",
        "- You need to run cells in order!\n",
        "- Variables from one cell are used in later cells\n",
        "- Try **Runtime → Run all** to run everything from the start\n",
        "\n",
        "### \"SyntaxError\"\n",
        "- Usually means a typo in your code\n",
        "- Check for:\n",
        "  - Missing quotes \" or '\n",
        "  - Missing parentheses ( )\n",
        "  - Missing colons :\n",
        "  - Typos in Python keywords"
      ]
    },
    {
      "cell_type": "markdown",
      "metadata": {
        "id": "Nhd1hHZSJbAY"
      },
      "source": [
        "## 🧬 Let's Do Some Biology!\n",
        "\n",
        "Now let's use Python for something relevant to your studies:"
      ]
    },
    {
      "cell_type": "code",
      "execution_count": 6,
      "metadata": {
        "id": "rVuI4qx3JbAY",
        "outputId": "6fbe6468-2be2-4b49-ec45-64adbbc43642",
        "colab": {
          "base_uri": "https://localhost:8080/"
        }
      },
      "outputs": [
        {
          "output_type": "stream",
          "name": "stdout",
          "text": [
            "DNA concentration: 2.0 ng/µL\n",
            "❌ You might need to dilute or concentrate your sample\n"
          ]
        }
      ],
      "source": [
        "# Calculate the concentration of a DNA solution\n",
        "# This is something you might do in the lab!\n",
        "\n",
        "# You measured:\n",
        "dna_amount = 50  # nanograms\n",
        "volume = 25      # microliters\n",
        "\n",
        "# Calculate concentration\n",
        "concentration = dna_amount / volume\n",
        "print(f\"DNA concentration: {concentration} ng/µL\")\n",
        "\n",
        "# Is this good for PCR? (PCR usually needs 10-100 ng/µL)\n",
        "if 10 <= concentration <= 100:\n",
        "    print(\"✅ Perfect for PCR!\")\n",
        "else:\n",
        "    print(\"❌ You might need to dilute or concentrate your sample\")"
      ]
    },
    {
      "cell_type": "markdown",
      "metadata": {
        "id": "sUpW4K2eJbAY"
      },
      "source": [
        "### Understanding the Code Above\n",
        "\n",
        "Let's break down what just happened:\n",
        "\n",
        "1. **Variables**: We stored numbers in named containers\n",
        "   - `dna_amount = 50` means \"store 50 in a box labeled dna_amount\"\n",
        "   \n",
        "2. **Calculations**: We can do math with variables\n",
        "   - `concentration = dna_amount / volume` divides one by the other\n",
        "   \n",
        "3. **Decisions**: The `if` statement checks a condition\n",
        "   - If concentration is between 10 and 100, it's good for PCR\n",
        "   - Otherwise, we need to adjust it"
      ]
    },
    {
      "cell_type": "markdown",
      "metadata": {
        "id": "RnE0S1AtJbAY"
      },
      "source": [
        "## 💪 Your Turn: Calculate Molecular Weight\n",
        "\n",
        "Let's calculate the molecular weight of glucose (C₆H₁₂O₆) - a molecule you know well!"
      ]
    },
    {
      "cell_type": "code",
      "execution_count": 7,
      "metadata": {
        "id": "NhV7ByT-JbAY",
        "outputId": "30a1960e-46a9-45f9-c0b0-34d0cb719ae0",
        "colab": {
          "base_uri": "https://localhost:8080/"
        }
      },
      "outputs": [
        {
          "output_type": "stream",
          "name": "stdout",
          "text": [
            "Molecular weight of glucose: 0 g/mol\n"
          ]
        }
      ],
      "source": [
        "# YOUR TURN!\n",
        "# Calculate the molecular weight of glucose (C₆H₁₂O₆)\n",
        "\n",
        "# Atomic weights (in g/mol):\n",
        "carbon_weight = 12\n",
        "hydrogen_weight = 1  # TODO: Check - is this right?\n",
        "oxygen_weight = 16\n",
        "\n",
        "# Glucose has:\n",
        "carbons = 6\n",
        "hydrogens = 12\n",
        "oxygens = 6\n",
        "\n",
        "# Calculate total molecular weight\n",
        "# TODO: Write the calculation here\n",
        "# Hint: (number of carbons × carbon weight) + (number of hydrogens × hydrogen weight) + ...\n",
        "glucose_mw = 0  # Replace 0 with your calculation\n",
        "\n",
        "print(f\"Molecular weight of glucose: {glucose_mw} g/mol\")\n",
        "\n",
        "# The answer should be 180 g/mol - did you get it right?"
      ]
    },
    {
      "cell_type": "markdown",
      "metadata": {
        "id": "jKMj1pZpJbAZ"
      },
      "source": [
        "## 📝 Markdown Basics - Formatting Your Text\n",
        "\n",
        "When you're writing in text cells, you can format your text using Markdown. Here are the essentials:\n",
        "\n",
        "### Text Formatting\n",
        "\n",
        "| What you want | What you type | What you get |\n",
        "|---------------|---------------|---------------|\n",
        "| Bold | `**text**` | **text** |\n",
        "| Italic | `*text*` | *text* |\n",
        "| Code | `` `code` `` | `code` |\n",
        "| Strikethrough | `~~text~~` | ~~text~~ |\n",
        "\n",
        "### Headers (different sizes)\n",
        "```\n",
        "# Big Header\n",
        "## Medium Header  \n",
        "### Small Header\n",
        "#### Tiny Header\n",
        "```\n",
        "\n",
        "### Lists\n",
        "\n",
        "**Bullet points:**\n",
        "```\n",
        "- First item\n",
        "- Second item\n",
        "  - Sub-item (indent with 2 spaces)\n",
        "```\n",
        "\n",
        "**Numbered lists:**\n",
        "```\n",
        "1. First step\n",
        "2. Second step\n",
        "3. Third step\n",
        "```\n",
        "\n",
        "### Try It!\n",
        "Double-click this cell to see the Markdown code, then press Shift+Enter to see it formatted again!"
      ]
    },
    {
      "cell_type": "markdown",
      "metadata": {
        "id": "R916VpAnJbAZ"
      },
      "source": [
        "## 🧪 More Biology Examples\n",
        "\n",
        "Let's work with something you'll see a lot in bioinformatics - DNA sequences!"
      ]
    },
    {
      "cell_type": "code",
      "execution_count": null,
      "metadata": {
        "id": "cMq08NcdJbAZ"
      },
      "outputs": [],
      "source": [
        "# Working with DNA sequences\n",
        "# This is a simple example - we'll do much more later in the course!\n",
        "\n",
        "# A short DNA sequence\n",
        "dna_sequence = \"ATCGATCGTAGC\"\n",
        "\n",
        "# Count the length\n",
        "sequence_length = len(dna_sequence)\n",
        "print(f\"DNA sequence: {dna_sequence}\")\n",
        "print(f\"Length: {sequence_length} base pairs\")\n",
        "\n",
        "# Count each nucleotide\n",
        "a_count = dna_sequence.count('A')\n",
        "t_count = dna_sequence.count('T')\n",
        "c_count = dna_sequence.count('C')\n",
        "g_count = dna_sequence.count('G')\n",
        "\n",
        "print(\"\\nNucleotide counts:\")  # \\n makes a new line\n",
        "print(f\"Adenine (A):  {a_count}\")\n",
        "print(f\"Thymine (T):  {t_count}\")\n",
        "print(f\"Cytosine (C): {c_count}\")\n",
        "print(f\"Guanine (G):  {g_count}\")"
      ]
    },
    {
      "cell_type": "markdown",
      "metadata": {
        "id": "u799AVR5JbAZ"
      },
      "source": [
        "## 🎨 Variables Remember Their Values\n",
        "\n",
        "One powerful feature of notebooks is that variables **persist between cells**.\n",
        "\n",
        "The DNA sequence we defined above can be used in the next cell:"
      ]
    },
    {
      "cell_type": "code",
      "execution_count": null,
      "metadata": {
        "id": "REXkpj2rJbAZ"
      },
      "outputs": [],
      "source": [
        "# We can still use dna_sequence from the previous cell!\n",
        "# Let's calculate GC content (important for DNA stability)\n",
        "\n",
        "gc_count = g_count + c_count\n",
        "gc_content = (gc_count / sequence_length) * 100\n",
        "\n",
        "print(f\"GC content: {gc_content:.1f}%\")\n",
        "\n",
        "# Note: {gc_content:.1f} means \"show 1 decimal place\"\n",
        "\n",
        "# GC content affects:\n",
        "# - DNA melting temperature (higher GC = higher melting temp)\n",
        "# - DNA stability\n",
        "# - PCR primer design"
      ]
    },
    {
      "cell_type": "markdown",
      "metadata": {
        "id": "ls3TjziqJbAZ"
      },
      "source": [
        "## 🌟 Special Colab Features\n",
        "\n",
        "### 1. Saving Your Work\n",
        "- Colab **auto-saves** every few seconds to Google Drive\n",
        "- Look for \"All changes saved\" at the top\n",
        "- First time: It will ask to connect to your Google Drive\n",
        "- Manual save: **File → Save** or **Ctrl/Cmd + S**\n",
        "\n",
        "### 2. Sharing Your Notebook  \n",
        "- Click **Share** button (top right)\n",
        "- Works just like Google Docs!\n",
        "- You can:\n",
        "  - Share with specific people\n",
        "  - Get a shareable link\n",
        "  - Control edit/view permissions\n",
        "\n",
        "### 3. Getting Help with Functions\n",
        "- **Hover** over any function for a quick description\n",
        "- Add `?` after a function name to see documentation\n",
        "- Try it below!"
      ]
    },
    {
      "cell_type": "code",
      "execution_count": null,
      "metadata": {
        "id": "JW3TfhuOJbAZ"
      },
      "outputs": [],
      "source": [
        "# Getting help in Colab\n",
        "# Run this cell to see documentation for the print function\n",
        "print?"
      ]
    },
    {
      "cell_type": "code",
      "execution_count": null,
      "metadata": {
        "id": "NdKkmL3gJbAZ"
      },
      "outputs": [],
      "source": [
        "# You can also get help on functions you'll learn later\n",
        "# For example, let's see what 'len' does:\n",
        "help(len)"
      ]
    },
    {
      "cell_type": "markdown",
      "metadata": {
        "id": "Ra5Sgaz_JbAZ"
      },
      "source": [
        "## 💡 Colab Keyboard Shortcuts\n",
        "\n",
        "These will make you much faster!\n",
        "\n",
        "### Essential Shortcuts\n",
        "- **Shift + Enter**: Run cell and move to next\n",
        "- **Ctrl/Cmd + Enter**: Run cell and stay in place\n",
        "- **Esc then A**: Add cell Above\n",
        "- **Esc then B**: Add cell Below\n",
        "- **Esc then D D**: Delete cell (press D twice)\n",
        "\n",
        "### Pro tip\n",
        "- **Ctrl/Cmd + /** : Comment/uncomment selected lines in code"
      ]
    },
    {
      "cell_type": "markdown",
      "metadata": {
        "id": "iaBNUVaiJbAZ"
      },
      "source": [
        "## 🏋️ Practice Exercises\n",
        "\n",
        "Time to practice what you've learned! Try these exercises:"
      ]
    },
    {
      "cell_type": "markdown",
      "metadata": {
        "id": "3ZjrWfXVJbAZ"
      },
      "source": [
        "### Exercise 1: Create Your Own Cells\n",
        "\n",
        "1. Add a new **text cell** below (click + Text)\n",
        "2. Write a brief introduction about yourself including:\n",
        "   - Your name in **bold**\n",
        "   - Your favorite organism in *italics*\n",
        "   - A numbered list of 3 things you hope to learn\n",
        "3. Add a new **code cell** below that\n",
        "4. Make it print \"I created my first cell!\""
      ]
    },
    {
      "cell_type": "markdown",
      "metadata": {
        "id": "8_O3nrucJbAa"
      },
      "source": [
        "### Exercise 2: Calculate a Dilution"
      ]
    },
    {
      "cell_type": "code",
      "execution_count": null,
      "metadata": {
        "id": "ubwG5xWiJbAa"
      },
      "outputs": [],
      "source": [
        "# Calculate a dilution for your experiment\n",
        "# You have a stock solution and need to dilute it\n",
        "\n",
        "# Given information:\n",
        "stock_concentration = 1000  # µg/mL\n",
        "desired_concentration = 50  # µg/mL\n",
        "final_volume = 10  # mL\n",
        "\n",
        "# Use the dilution formula: C1 × V1 = C2 × V2\n",
        "# We need to find V1 (volume of stock needed)\n",
        "\n",
        "# TODO: Calculate stock_volume_needed\n",
        "stock_volume_needed = 0  # Replace 0 with your calculation\n",
        "\n",
        "# TODO: Calculate buffer_volume_needed\n",
        "buffer_volume_needed = 0  # Replace 0 with your calculation\n",
        "\n",
        "print(f\"To make {final_volume} mL of {desired_concentration} µg/mL solution:\")\n",
        "print(f\"- Add {stock_volume_needed} mL of stock solution\")\n",
        "print(f\"- Add {buffer_volume_needed} mL of buffer\")"
      ]
    },
    {
      "cell_type": "markdown",
      "metadata": {
        "id": "XoeTMtKbJbAa"
      },
      "source": [
        "### Exercise 3: Analyze a Protein Sequence"
      ]
    },
    {
      "cell_type": "code",
      "execution_count": null,
      "metadata": {
        "id": "erDVBxXyJbAa"
      },
      "outputs": [],
      "source": [
        "# Analyze this protein sequence\n",
        "protein = \"MALKTVFDAKRLIGRKFGDGQVGVILFFGKSG\"\n",
        "\n",
        "# TODO: Complete these tasks\n",
        "# 1. Print the length of the protein\n",
        "protein_length = 0  # Replace with len() function\n",
        "\n",
        "# 2. Count how many times 'G' (Glycine) appears\n",
        "glycine_count = 0  # Replace with .count() method\n",
        "\n",
        "# 3. Check if the sequence contains 'W' (Tryptophan)\n",
        "# Hint: use 'W' in protein\n",
        "has_tryptophan = False  # Replace with your check\n",
        "\n",
        "# Print your results\n",
        "print(f\"Protein length: {protein_length} amino acids\")\n",
        "print(f\"Number of glycines: {glycine_count}\")\n",
        "print(f\"Contains tryptophan: {has_tryptophan}\")"
      ]
    },
    {
      "cell_type": "markdown",
      "metadata": {
        "id": "Lc11jLShJbAa"
      },
      "source": [
        "### Exercise 4: Create a Simple Calculator"
      ]
    },
    {
      "cell_type": "code",
      "execution_count": null,
      "metadata": {
        "id": "1wLHL1G9JbAa"
      },
      "outputs": [],
      "source": [
        "# Create a simple calculator for lab calculations\n",
        "# This combines everything you've learned!\n",
        "\n",
        "# Molarity calculator: moles = mass / molecular_weight\n",
        "#                    molarity = moles / volume_in_liters\n",
        "\n",
        "# For NaCl solution:\n",
        "mass_nacl = 5.844  # grams\n",
        "molecular_weight_nacl = 58.44  # g/mol\n",
        "volume_ml = 100  # milliliters\n",
        "\n",
        "# TODO: Complete the calculation\n",
        "# Step 1: Convert volume to liters\n",
        "volume_liters = 0  # Hint: divide by 1000\n",
        "\n",
        "# Step 2: Calculate moles\n",
        "moles = 0  # Use the formula above\n",
        "\n",
        "# Step 3: Calculate molarity\n",
        "molarity = 0  # Use the formula above\n",
        "\n",
        "print(f\"You made a {molarity} M NaCl solution\")"
      ]
    },
    {
      "cell_type": "markdown",
      "metadata": {
        "id": "xiW8eiNdJbAa"
      },
      "source": [
        "## 🎉 Congratulations!\n",
        "\n",
        "You've learned the essentials of Google Colab notebooks! You now know how to:\n",
        "\n",
        "✅ Navigate the Colab interface  \n",
        "✅ Understand the difference between code and text cells  \n",
        "✅ Run Python code  \n",
        "✅ Format text with Markdown  \n",
        "✅ Perform calculations relevant to biology  \n",
        "✅ Work with sequences  \n",
        "✅ Use variables across cells  \n",
        "✅ Save and share your work  \n",
        "\n",
        "### 📚 Next Steps\n",
        "\n",
        "1. **Save this notebook** to your Google Drive (File → Save a copy in Drive)\n",
        "2. **Complete all the exercises** - practice makes perfect!\n",
        "3. **Experiment** - try changing values and see what happens\n",
        "4. **Don't worry about errors** - they're how we learn!\n",
        "\n",
        "### 🚀 What's Coming Next\n",
        "\n",
        "In the upcoming lectures, we'll use notebooks to:\n",
        "- Write real Python programs for biological analysis\n",
        "- Analyze DNA and protein sequences\n",
        "- Create professional graphs and visualizations\n",
        "- Build your own bioinformatics tools\n",
        "- Process real experimental data\n",
        "\n",
        "### 💭 Remember\n",
        "\n",
        "- **Everyone starts somewhere** - you're doing great!\n",
        "- **Mistakes are normal** - even experienced programmers make them\n",
        "- **Google is your friend** - professionals search for help all the time\n",
        "- **Practice is key** - the more you code, the easier it becomes\n",
        "\n",
        "**Happy coding, future bioinformatician!** 🧬💻✨"
      ]
    }
  ],
  "metadata": {
    "colab": {
      "provenance": []
    },
    "kernelspec": {
      "display_name": ".venv",
      "language": "python",
      "name": "python3"
    },
    "language_info": {
      "codemirror_mode": {
        "name": "ipython",
        "version": 3
      },
      "file_extension": ".py",
      "mimetype": "text/x-python",
      "name": "python",
      "nbconvert_exporter": "python",
      "pygments_lexer": "ipython3",
      "version": "3.12.10"
    }
  },
  "nbformat": 4,
  "nbformat_minor": 0
}